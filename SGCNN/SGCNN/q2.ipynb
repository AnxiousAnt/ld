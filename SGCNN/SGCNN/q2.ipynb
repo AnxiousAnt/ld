{
 "cells": [
  {
   "cell_type": "code",
   "execution_count": 1,
   "metadata": {},
   "outputs": [],
   "source": [
    "import numpy as np\n",
    "import matplotlib.pyplot as plt\n",
    "def plot_sigmoid():\n",
    "    x = np.linspace(-10, 10, 100)\n",
    "    y = 1 / (1 + np.exp(-x))\n",
    "    plt.plot(x, y)\n",
    "    plt.xlabel('Input')\n",
    "    plt.ylabel('Sigmoid Output')\n",
    "    plt.title('Sigmoid Activation Function')\n",
    "    plt.grid(True)\n",
    "    plt.show()\n"
   ]
  },
  {
   "cell_type": "code",
   "execution_count": 2,
   "metadata": {},
   "outputs": [],
   "source": [
    "def plot_tanh():\n",
    "    x = np.linspace(-10, 10, 100)\n",
    "    tanh = np.tanh(x)\n",
    "    plt.plot(x, tanh)\n",
    "    plt.title(\"Hyperbolic Tangent (tanh) Activation Function\")\n",
    "    plt.xlabel(\"x\")\n",
    "    plt.ylabel(\"tanh(x)\")\n",
    "    plt.grid(True)\n",
    "    plt.show()\n",
    "\n",
    "\n",
    "def plot_relu():\n",
    "    x = np.linspace(-10, 10, 100)\n",
    "    relu = np.maximum(0, x)\n",
    "    plt.plot(x, relu)\n",
    "    plt.title(\"ReLU Activation Function\")\n",
    "    plt.xlabel(\"x\")\n",
    "    plt.ylabel(\"ReLU(x)\")\n",
    "    plt.grid(True)\n",
    "    plt.show()\n",
    "\n",
    "def plot_leaky_relu():\n",
    "    x = np.linspace(-10, 10, 100)\n",
    "    def leaky_relu(x, alpha=0.1):\n",
    "        return np.where(x >= 0, x, alpha * x)\n",
    "    # Compute leaky ReLU values for corresponding x\n",
    "    leaky_relu_values = leaky_relu(x)\n",
    "    # Plot the leaky ReLU function\n",
    "    plt.plot(x, leaky_relu_values)\n",
    "    plt.title(\"Leaky ReLU Activation Function\")\n",
    "    plt.xlabel(\"x\")\n",
    "    plt.ylabel(\"Leaky ReLU(x)\")\n",
    "    plt.grid(True)\n",
    "    plt.show()\n",
    "\n",
    "def softmax(z):\n",
    "    exp_z=np.exp(z)\n",
    "    class_labels = [\"Seal\", \"Panda\", \"Duck\"]\n",
    "    soft_ac = [i/ sum(exp_z) for i in exp_z]\n",
    "    plot_softmax(soft_ac, class_labels)"
   ]
  },
  {
   "cell_type": "code",
   "execution_count": 3,
   "metadata": {},
   "outputs": [],
   "source": [
    "def plot_softmax(probabilities, class_labels):\n",
    "    plt.bar(class_labels, probabilities)\n",
    "    plt.xlabel(\"Class\")\n",
    "    plt.ylabel(\"Probability\")\n",
    "    plt.title(\"Softmax Output\")\n",
    "    plt.show()\n",
    "\n"
   ]
  },
  {
   "cell_type": "code",
   "execution_count": 4,
   "metadata": {},
   "outputs": [
    {
     "name": "stdout",
     "output_type": "stream",
     "text": [
      "\n",
      "MAIN MENU\n",
      "1. Sigmoid\n",
      "2. Hyperbolic tangent\n",
      "3.Rectified Linear Unit\n",
      "4.Leaky ReLU\n",
      "5.Softmax\n",
      "6.Exit\n"
     ]
    }
   ],
   "source": [
    "# calling the function\n",
    "while True:\n",
    "    print(\"\\nMAIN MENU\")\n",
    "    print(\"1. Sigmoid\")\n",
    "    print(\"2. Hyperbolic tangent\")\n",
    "    print(\"3.Rectified Linear Unit\")\n",
    "    print(\"4.Leaky ReLU\")\n",
    "    print(\"5.Softmax\")\n",
    "    print(\"6.Exit\")\n",
    "    choice = int(input(\"Enter the Choice:\"))\n",
    "    if choice == 1:\n",
    "        plot_sigmoid()\n",
    "    elif choice ==2:\n",
    "        plot_tanh()\n",
    "    elif choice ==3:\n",
    "        plot_relu()\n",
    "    elif choice ==4:\n",
    "        plot_leaky_relu()\n",
    "    elif choice ==5:\n",
    "        softmax()\n",
    "    elif choice ==6:\n",
    "        break\n",
    "    else:\n",
    "        print(\"Oops! Incorrect Choice.\")"
   ]
  }
 ],
 "metadata": {
  "kernelspec": {
   "display_name": "Python 3",
   "language": "python",
   "name": "python3"
  },
  "language_info": {
   "codemirror_mode": {
    "name": "ipython",
    "version": 3
   },
   "file_extension": ".py",
   "mimetype": "text/x-python",
   "name": "python",
   "nbconvert_exporter": "python",
   "pygments_lexer": "ipython3",
   "version": "3.8.10"
  }
 },
 "nbformat": 4,
 "nbformat_minor": 2
}
