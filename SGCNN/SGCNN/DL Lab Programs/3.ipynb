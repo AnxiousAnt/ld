{
 "cells": [
  {
   "cell_type": "code",
   "execution_count": 1,
   "metadata": {},
   "outputs": [],
   "source": [
    "import numpy as np"
   ]
  },
  {
   "cell_type": "code",
   "execution_count": 2,
   "metadata": {},
   "outputs": [],
   "source": [
    "class Perceptron:\n",
    "    def __init__(self, weights=None, bias=None):\n",
    "        self.weights = weights\n",
    "        self.bias = bias\n",
    "    \n",
    "    def initialize(self, n_features):\n",
    "        if self.weights is None:\n",
    "            self.weigts = np.zeros(n_features)\n",
    "        if self.bias is None:\n",
    "            self.bias = 0\n",
    "    \n",
    "    def predict(self, inputs):\n",
    "        activation = self.bias + np.dot(self.weights, inputs)\n",
    "        return 1 if activation > 0 else 0\n",
    "\n",
    "    def train(self, X, y, epochs=100, lr=0.1):\n",
    "        self.initialize(X.shape[1])\n",
    "\n",
    "        for _ in range(epochs):\n",
    "            for inputs, target in zip(X, y):\n",
    "                y_pred = self.predict(inputs)\n",
    "                error = target - y_pred\n",
    "\n",
    "                self.weights += lr * error * inputs\n",
    "                self.bias += lr * error"
   ]
  },
  {
   "cell_type": "code",
   "execution_count": 3,
   "metadata": {},
   "outputs": [],
   "source": [
    "X_train = np.array([[0, 0, 1], [1, 0, 1], [0, 1, 1], [1, 1, 1]])\n",
    "y_train = np.array([0, 0, 0, 1])\n",
    "\n",
    "custom_weights = [0.2, 0.4, 0.2]\n",
    "custom_bias = -0.5"
   ]
  },
  {
   "cell_type": "code",
   "execution_count": 4,
   "metadata": {},
   "outputs": [],
   "source": [
    "p = Perceptron(custom_weights, custom_bias)\n",
    "p.train(X_train, y_train)"
   ]
  },
  {
   "cell_type": "code",
   "execution_count": 5,
   "metadata": {},
   "outputs": [],
   "source": [
    "X_test = np.array([[0, 0, 1], [1, 0, 1], [0, 1, 1], [1, 1, 1]])\n",
    "y_test = np.array([0, 0, 0, 1])\n",
    "\n",
    "predicted_array = np.array([p.predict(x) for x in X_test])"
   ]
  },
  {
   "cell_type": "code",
   "execution_count": 6,
   "metadata": {},
   "outputs": [
    {
     "data": {
      "text/plain": [
       "100.0"
      ]
     },
     "execution_count": 6,
     "metadata": {},
     "output_type": "execute_result"
    }
   ],
   "source": [
    "accuracy = np.mean(predicted_array == y_test) * 100\n",
    "accuracy"
   ]
  }
 ],
 "metadata": {
  "kernelspec": {
   "display_name": "base",
   "language": "python",
   "name": "python3"
  },
  "language_info": {
   "codemirror_mode": {
    "name": "ipython",
    "version": 3
   },
   "file_extension": ".py",
   "mimetype": "text/x-python",
   "name": "python",
   "nbconvert_exporter": "python",
   "pygments_lexer": "ipython3",
   "version": "3.10.9"
  }
 },
 "nbformat": 4,
 "nbformat_minor": 2
}
