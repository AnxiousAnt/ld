{
 "cells": [
  {
   "cell_type": "code",
   "execution_count": 1,
   "metadata": {},
   "outputs": [],
   "source": [
    "import numpy as np\n",
    "import matplotlib.pyplot as plt"
   ]
  },
  {
   "cell_type": "code",
   "execution_count": 2,
   "metadata": {},
   "outputs": [],
   "source": [
    "def plot_graph(x, y, func):\n",
    "    plt.plot(x, y)\n",
    "    plt.xlabel(\"Input\")\n",
    "    plt.ylabel(\"Output\")\n",
    "    plt.title(f\"{func} Activation Function\")\n",
    "    plt.grid(True)\n",
    "    plt.show()"
   ]
  },
  {
   "cell_type": "code",
   "execution_count": 3,
   "metadata": {},
   "outputs": [],
   "source": [
    "def plot_sigmoid():\n",
    "    x = np.linspace(-10, 10, 100)\n",
    "    y = 1 / (1 + np.exp(-x))\n",
    "\n",
    "    plot_graph(x, y, \"Sigmoid\")"
   ]
  },
  {
   "cell_type": "code",
   "execution_count": 4,
   "metadata": {},
   "outputs": [],
   "source": [
    "def plot_relu():\n",
    "    x = np.linspace(-10, 10, 100)\n",
    "    y = np.maximum(0, x)\n",
    "\n",
    "    plot_graph(x, y, \"ReLU\")"
   ]
  },
  {
   "cell_type": "code",
   "execution_count": 5,
   "metadata": {},
   "outputs": [],
   "source": [
    "def plot_leaky_relu():\n",
    "    x = np.linspace(-10, 10, 100)\n",
    "    y = np.maximum(0.01 * x, x)\n",
    "\n",
    "    plot_graph(x, y, \"Leaky ReLU\")"
   ]
  },
  {
   "cell_type": "code",
   "execution_count": 6,
   "metadata": {},
   "outputs": [],
   "source": [
    "def plot_tanh():\n",
    "    x = np.linspace(-10, 10)\n",
    "    y = (np.exp(x) - np.exp(-x)) / (np.exp(x) + np.exp(-x))\n",
    "\n",
    "    plot_graph(x, y, \"Hyberbolic Tangent\")"
   ]
  },
  {
   "cell_type": "code",
   "execution_count": 7,
   "metadata": {},
   "outputs": [],
   "source": [
    "def plot_softmax():\n",
    "    classes = ['Class A', 'Class B', 'Class C']\n",
    "    x = np.array([1, 2, 3])\n",
    "    exp_x = np.exp(x)\n",
    "    output = np.exp(x) / np.sum(exp_x)\n",
    "    print(output)\n",
    "\n",
    "    plt.bar(x, output)\n",
    "    plt.xticks(x, classes)\n",
    "    plt.xlabel(\"Classes\")\n",
    "    plt.ylabel(\"Probabilities\")\n",
    "    plt.title(\"Softmax Activation Function\")\n",
    "    plt.show()"
   ]
  },
  {
   "cell_type": "code",
   "execution_count": 8,
   "metadata": {},
   "outputs": [
    {
     "name": "stdout",
     "output_type": "stream",
     "text": [
      "Enter one of the following options : \n",
      "1 - To display the Sigmoid Activation Function\n",
      "2 - To display the ReLU Activation Function\n",
      "3 - To display the Leaky ReLU Activation Function\n",
      "4 - To display the Hyperbolic Tangent Activation Function\n",
      "5 - To display the Softmax Activation Function\n",
      "6 - To Exit\n"
     ]
    },
    {
     "data": {
      "image/png": "[encoded data removed]",
      "text/plain": [
       "<Figure size 640x480 with 1 Axes>"
      ]
     },
     "metadata": {},
     "output_type": "display_data"
    },
    {
     "name": "stdout",
     "output_type": "stream",
     "text": [
      "Goodbye\n"
     ]
    }
   ],
   "source": [
    "print(\"Enter one of the following options : \")\n",
    "print(\"\"\"1 - To display the Sigmoid Activation Function\n",
    "2 - To display the ReLU Activation Function\n",
    "3 - To display the Leaky ReLU Activation Function\n",
    "4 - To display the Hyperbolic Tangent Activation Function\n",
    "5 - To display the Softmax Activation Function\n",
    "6 - To Exit\"\"\")\n",
    "\n",
    "choice = None\n",
    "while choice != '6':\n",
    "      choice = input(\"Enter your choice : \")\n",
    "\n",
    "      if choice == '1':\n",
    "            plot_sigmoid()\n",
    "      elif choice == '2':\n",
    "            plot_relu()\n",
    "      elif choice == '3':\n",
    "            plot_leaky_relu()\n",
    "      elif choice == '4':\n",
    "            plot_tanh()\n",
    "      elif choice == '5':\n",
    "            plot_softmax()\n",
    "      elif choice == '6':\n",
    "            print(\"Goodbye\")\n",
    "      else:\n",
    "            print(\"Invalid Entry\")"
   ]
  },
  {
   "cell_type": "code",
   "execution_count": null,
   "metadata": {},
   "outputs": [],
   "source": []
  }
 ],
 "metadata": {
  "kernelspec": {
   "display_name": "base",
   "language": "python",
   "name": "python3"
  },
  "language_info": {
   "codemirror_mode": {
    "name": "ipython",
    "version": 3
   },
   "file_extension": ".py",
   "mimetype": "text/x-python",
   "name": "python",
   "nbconvert_exporter": "python",
   "pygments_lexer": "ipython3",
   "version": "3.10.9"
  }
 },
 "nbformat": 4,
 "nbformat_minor": 2
}
