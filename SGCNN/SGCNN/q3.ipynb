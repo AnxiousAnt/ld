{
 "cells": [
  {
   "cell_type": "code",
   "execution_count": 4,
   "metadata": {},
   "outputs": [],
   "source": [
    "import numpy as np\n",
    "class Perceptron:\n",
    "    \"\"\"\n",
    "    A simple perceptron classifier.\n",
    "    \"\"\"\n",
    "    def __init__(self, weights=None, bias=0):\n",
    "        self.weights = weights\n",
    "        self.bias = bias\n",
    "\n",
    "    def initialize(self, n_features):\n",
    "        \"\"\"Set initial w and b as zeros if not provided\"\"\"\n",
    "        if self.weights is None:\n",
    "            self.weights = np.zeros(n_features)\n",
    "        if self.bias is None:\n",
    "            self.bias = 0\n",
    "        return\n",
    "    \n",
    "    def predict(self, inputs):\n",
    "        \"\"\"\n",
    "        Predict the class labels for new input data.\n",
    "        Calculate the step activation function.\n",
    "        \"\"\"\n",
    "        activation = np.dot(inputs, self.weights) + self.bias\n",
    "        return 1 if activation > 0 else 0\n",
    "    \n",
    "    def train(self, X, y, epochs=100, learning_rate=0.1):\n",
    "        self.initialize(X.shape[1])\n",
    "\n",
    "        for epoch in range(epochs):\n",
    "            for i, (inputs, label) in enumerate(zip(X, y)):\n",
    "                y_pred = self.predict(inputs)\n",
    "                error = label - y_pred\n",
    "                self.weights += learning_rate * error * inputs\n",
    "                self.bias += learning_rate * error\n",
    "        return \n",
    "    "
   ]
  },
  {
   "cell_type": "code",
   "execution_count": 5,
   "metadata": {},
   "outputs": [
    {
     "name": "stdout",
     "output_type": "stream",
     "text": [
      "Prediction: 0\n",
      "Accuracy: 100.0\n"
     ]
    }
   ],
   "source": [
    "X_train = np.array([[0, 0, 1],\n",
    "                    [0, 1, 1],\n",
    "                    [1, 0, 1],\n",
    "                    [1, 1, 1]])\n",
    "\n",
    "y_train = np.array([0, 0, 0, 1])\n",
    "\n",
    "custom_weights = np.array([0.2, 0.4, 0.6])\n",
    "\n",
    "custom_bias = -0.5\n",
    "\n",
    "p = Perceptron(weights=custom_weights, bias=custom_bias)\n",
    "\n",
    "p.train(X_train, y_train, epochs=100, learning_rate=0.1)\n",
    "\n",
    "test_input = np.array([0, 1, 1])\n",
    "\n",
    "print(\"Prediction:\", p.predict(test_input))\n",
    "\n",
    "X_test = np.array([[0, 0, 1],\n",
    "                   [0, 1, 1],\n",
    "                   [1, 0, 1],\n",
    "                   [1, 1, 1]])\n",
    "\n",
    "y_test = np.array([0, 0, 0, 1])\n",
    "\n",
    "pred = np.array([p.predict(x) for x in X_test])\n",
    "\n",
    "accuracy = np.mean(pred == y_test) * 100\n",
    "\n",
    "print(\"Accuracy:\", accuracy)"
   ]
  }
 ],
 "metadata": {
  "kernelspec": {
   "display_name": "Python 3",
   "language": "python",
   "name": "python3"
  },
  "language_info": {
   "codemirror_mode": {
    "name": "ipython",
    "version": 3
   },
   "file_extension": ".py",
   "mimetype": "text/x-python",
   "name": "python",
   "nbconvert_exporter": "python",
   "pygments_lexer": "ipython3",
   "version": "3.8.10"
  }
 },
 "nbformat": 4,
 "nbformat_minor": 2
}
